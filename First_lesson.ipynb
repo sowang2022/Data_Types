{
  "nbformat": 4,
  "nbformat_minor": 0,
  "metadata": {
    "colab": {
      "name": "First_lesson.ipynb",
      "provenance": [],
      "authorship_tag": "ABX9TyMVWjQXodJe9v5lBw4e7uSI",
      "include_colab_link": true
    },
    "kernelspec": {
      "name": "python3",
      "display_name": "Python 3"
    },
    "language_info": {
      "name": "python"
    }
  },
  "cells": [
    {
      "cell_type": "markdown",
      "metadata": {
        "id": "view-in-github",
        "colab_type": "text"
      },
      "source": [
        "<a href=\"https://colab.research.google.com/github/sowang2022/sowang2022/blob/main/First_lesson.ipynb\" target=\"_parent\"><img src=\"https://colab.research.google.com/assets/colab-badge.svg\" alt=\"Open In Colab\"/></a>"
      ]
    },
    {
      "cell_type": "code",
      "execution_count": 11,
      "metadata": {
        "colab": {
          "base_uri": "https://localhost:8080/"
        },
        "id": "FcoV1QGz7sXZ",
        "outputId": "111f44a9-4677-4944-c585-411e963ccd72"
      },
      "outputs": [
        {
          "output_type": "stream",
          "name": "stdout",
          "text": [
            "4\n",
            "3\n"
          ]
        }
      ],
      "source": [
        "a = 4\n",
        "b = 3\n",
        "c = 7\n",
        "print(a)\n",
        "print(b)"
      ]
    },
    {
      "cell_type": "code",
      "source": [
        "print(c)"
      ],
      "metadata": {
        "colab": {
          "base_uri": "https://localhost:8080/"
        },
        "id": "ptyzCjQr-rZw",
        "outputId": "da8079ae-769e-4300-c003-dc80a6a5e2cd"
      },
      "execution_count": 15,
      "outputs": [
        {
          "output_type": "stream",
          "name": "stdout",
          "text": [
            "7\n"
          ]
        }
      ]
    },
    {
      "cell_type": "code",
      "source": [
        "d = 'Hello!'\n",
        "e = \"Sophia's fav color is teal\"\n",
        "\n",
        "print(d,e)\n",
        "print(a,b,c)"
      ],
      "metadata": {
        "colab": {
          "base_uri": "https://localhost:8080/"
        },
        "id": "E3sHWFNi_mik",
        "outputId": "f51986c6-5f84-4c37-8bf7-9bb7d00f2e4c"
      },
      "execution_count": 19,
      "outputs": [
        {
          "output_type": "stream",
          "name": "stdout",
          "text": [
            "Hello! Sophia's fav color is teal\n",
            "4 3 7\n"
          ]
        }
      ]
    },
    {
      "cell_type": "code",
      "source": [
        "filter_Order = 2048\n",
        "data2plot = 3\n"
      ],
      "metadata": {
        "id": "0Evs3sLkAMcm"
      },
      "execution_count": 21,
      "outputs": []
    },
    {
      "cell_type": "code",
      "source": [
        "f,g = 10,20\n",
        "print(f,g)"
      ],
      "metadata": {
        "colab": {
          "base_uri": "https://localhost:8080/"
        },
        "id": "LmA42mQ2BI1Y",
        "outputId": "8e154c6a-ebb2-48df-de4a-7a70d70f598e"
      },
      "execution_count": 22,
      "outputs": [
        {
          "output_type": "stream",
          "name": "stdout",
          "text": [
            "10 20\n"
          ]
        }
      ]
    },
    {
      "cell_type": "code",
      "source": [
        "%whos"
      ],
      "metadata": {
        "colab": {
          "base_uri": "https://localhost:8080/"
        },
        "id": "triLBEx4BNIJ",
        "outputId": "2f61ebf2-b92d-439a-e06b-bab031282f3a"
      },
      "execution_count": 24,
      "outputs": [
        {
          "output_type": "stream",
          "name": "stdout",
          "text": [
            "Variable       Type    Data/Info\n",
            "--------------------------------\n",
            "a              int     4\n",
            "b              int     3\n",
            "c              int     7\n",
            "d              str     Hello!\n",
            "data2plot      int     3\n",
            "e              str     Sophia's fav color is teal\n",
            "f              int     10\n",
            "filter_Order   int     2048\n",
            "g              int     20\n"
          ]
        }
      ]
    },
    {
      "cell_type": "code",
      "source": [
        "a = 10"
      ],
      "metadata": {
        "id": "Gj7eNfErBr_H"
      },
      "execution_count": 26,
      "outputs": []
    },
    {
      "cell_type": "code",
      "source": [
        "%whos"
      ],
      "metadata": {
        "colab": {
          "base_uri": "https://localhost:8080/"
        },
        "id": "Dn9fKqoFB7hO",
        "outputId": "f3a9a8c2-c0bb-43ec-8b03-566ababbbaea"
      },
      "execution_count": 28,
      "outputs": [
        {
          "output_type": "stream",
          "name": "stdout",
          "text": [
            "Variable       Type    Data/Info\n",
            "--------------------------------\n",
            "a              int     10\n",
            "b              int     3\n",
            "c              int     7\n",
            "d              str     Hello!\n",
            "data2plot      int     3\n",
            "e              str     Sophia's fav color is teal\n",
            "f              int     10\n",
            "filter_Order   int     2048\n",
            "g              int     20\n"
          ]
        }
      ]
    },
    {
      "cell_type": "code",
      "source": [
        "a = 'Sup'"
      ],
      "metadata": {
        "id": "Zspi8F4tCBAS"
      },
      "execution_count": 30,
      "outputs": []
    },
    {
      "cell_type": "code",
      "source": [
        "%whos"
      ],
      "metadata": {
        "colab": {
          "base_uri": "https://localhost:8080/"
        },
        "id": "KyB92c55CHuv",
        "outputId": "fb2415b9-955b-41ec-caea-ee45c19b61f4"
      },
      "execution_count": 31,
      "outputs": [
        {
          "output_type": "stream",
          "name": "stdout",
          "text": [
            "Variable       Type    Data/Info\n",
            "--------------------------------\n",
            "a              str     Sup\n",
            "b              int     3\n",
            "c              int     7\n",
            "d              str     Hello!\n",
            "data2plot      int     3\n",
            "e              str     Sophia's fav color is teal\n",
            "f              int     10\n",
            "filter_Order   int     2048\n",
            "g              int     20\n"
          ]
        }
      ]
    },
    {
      "cell_type": "code",
      "source": [
        "#1) yep\n",
        "#2) again yepp"
      ],
      "metadata": {
        "id": "RkPYei9UCJOo"
      },
      "execution_count": null,
      "outputs": []
    }
  ]
}
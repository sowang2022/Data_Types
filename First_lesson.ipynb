{
  "nbformat": 4,
  "nbformat_minor": 0,
  "metadata": {
    "colab": {
      "name": "First_lesson.ipynb",
      "provenance": [],
      "authorship_tag": "ABX9TyOlCg5ZWSxU4Z5bzvlB5ga4",
      "include_colab_link": true
    },
    "kernelspec": {
      "name": "python3",
      "display_name": "Python 3"
    },
    "language_info": {
      "name": "python"
    }
  },
  "cells": [
    {
      "cell_type": "markdown",
      "metadata": {
        "id": "view-in-github",
        "colab_type": "text"
      },
      "source": [
        "<a href=\"https://colab.research.google.com/github/sowang2022/sowang2022/blob/main/First_lesson.ipynb\" target=\"_parent\"><img src=\"https://colab.research.google.com/assets/colab-badge.svg\" alt=\"Open In Colab\"/></a>"
      ]
    },
    {
      "cell_type": "code",
      "execution_count": 11,
      "metadata": {
        "colab": {
          "base_uri": "https://localhost:8080/"
        },
        "id": "FcoV1QGz7sXZ",
        "outputId": "111f44a9-4677-4944-c585-411e963ccd72"
      },
      "outputs": [
        {
          "output_type": "stream",
          "name": "stdout",
          "text": [
            "4\n",
            "3\n"
          ]
        }
      ],
      "source": [
        "a = 4\n",
        "b = 3\n",
        "c = 7\n",
        "print(a)\n",
        "print(b)"
      ]
    },
    {
      "cell_type": "code",
      "source": [
        "print(c)"
      ],
      "metadata": {
        "colab": {
          "base_uri": "https://localhost:8080/"
        },
        "id": "ptyzCjQr-rZw",
        "outputId": "da8079ae-769e-4300-c003-dc80a6a5e2cd"
      },
      "execution_count": 15,
      "outputs": [
        {
          "output_type": "stream",
          "name": "stdout",
          "text": [
            "7\n"
          ]
        }
      ]
    },
    {
      "cell_type": "code",
      "source": [
        "d = 'Hello!'\n",
        "e = \"Sophia's fav color is teal\"\n",
        "\n",
        "print(d,e)\n",
        "print(a,b,c)"
      ],
      "metadata": {
        "colab": {
          "base_uri": "https://localhost:8080/"
        },
        "id": "E3sHWFNi_mik",
        "outputId": "f51986c6-5f84-4c37-8bf7-9bb7d00f2e4c"
      },
      "execution_count": 19,
      "outputs": [
        {
          "output_type": "stream",
          "name": "stdout",
          "text": [
            "Hello! Sophia's fav color is teal\n",
            "4 3 7\n"
          ]
        }
      ]
    },
    {
      "cell_type": "code",
      "source": [
        "filter_Order = 2048\n",
        "data2plot = 3\n"
      ],
      "metadata": {
        "id": "0Evs3sLkAMcm"
      },
      "execution_count": 20,
      "outputs": []
    }
  ]
}
{
  "nbformat": 4,
  "nbformat_minor": 0,
  "metadata": {
    "colab": {
      "name": "Lesson2.ipynb",
      "provenance": [],
      "authorship_tag": "ABX9TyOy0pyaiKu9fQNTxZAs01rl",
      "include_colab_link": true
    },
    "kernelspec": {
      "name": "python3",
      "display_name": "Python 3"
    },
    "language_info": {
      "name": "python"
    }
  },
  "cells": [
    {
      "cell_type": "markdown",
      "metadata": {
        "id": "view-in-github",
        "colab_type": "text"
      },
      "source": [
        "<a href=\"https://colab.research.google.com/github/sowang2022/sowang2022/blob/main/Lesson2.ipynb\" target=\"_parent\"><img src=\"https://colab.research.google.com/assets/colab-badge.svg\" alt=\"Open In Colab\"/></a>"
      ]
    },
    {
      "cell_type": "code",
      "execution_count": null,
      "metadata": {
        "id": "wuHYe7ZRCfHI"
      },
      "outputs": [],
      "source": [
        "x = 7\n",
        "y = 4.1\n",
        "z = 0"
      ]
    },
    {
      "cell_type": "code",
      "source": [
        "print(x-6)\n",
        "c =x+y-2\n",
        "print(c)"
      ],
      "metadata": {
        "colab": {
          "base_uri": "https://localhost:8080/"
        },
        "id": "F9Q6jp9yC5FI",
        "outputId": "a8c4e56a-3559-4047-e2ab-e390adc3c9bf"
      },
      "execution_count": null,
      "outputs": [
        {
          "output_type": "stream",
          "name": "stdout",
          "text": [
            "1\n",
            "9.1\n"
          ]
        }
      ]
    },
    {
      "cell_type": "code",
      "source": [
        "# floating-point algebra vs. 'real' algebra\n",
        "print(x*y)\n",
        "print(4/3)\n",
        "4\\\n",
        "   + 3\n",
        "3/4"
      ],
      "metadata": {
        "colab": {
          "base_uri": "https://localhost:8080/"
        },
        "id": "Om6kp8gADBn7",
        "outputId": "8a7ff07a-ddb9-4db7-f27b-1805e7227b34"
      },
      "execution_count": null,
      "outputs": [
        {
          "output_type": "stream",
          "name": "stdout",
          "text": [
            "28.699999999999996\n",
            "1.3333333333333333\n"
          ]
        },
        {
          "output_type": "execute_result",
          "data": {
            "text/plain": [
              "0.75"
            ]
          },
          "metadata": {},
          "execution_count": 13
        }
      ]
    },
    {
      "cell_type": "code",
      "source": [
        "# powers\n",
        "print(3**3)\n",
        "9**(1/2)"
      ],
      "metadata": {
        "colab": {
          "base_uri": "https://localhost:8080/"
        },
        "id": "lu7mAiLhD6f_",
        "outputId": "4ea0b60a-7627-426d-8a3e-8e2a8220eef5"
      },
      "execution_count": null,
      "outputs": [
        {
          "output_type": "stream",
          "name": "stdout",
          "text": [
            "27\n"
          ]
        },
        {
          "output_type": "execute_result",
          "data": {
            "text/plain": [
              "3.0"
            ]
          },
          "metadata": {},
          "execution_count": 18
        }
      ]
    },
    {
      "cell_type": "code",
      "source": [
        "firstName = 'Sophia'\n",
        "lastName = 'Wang'\n",
        "\n",
        "print (firstName+' '+lastName)"
      ],
      "metadata": {
        "colab": {
          "base_uri": "https://localhost:8080/"
        },
        "id": "JSimu77kEVCy",
        "outputId": "6d928728-2b30-4d8e-a99b-ca3e6ea7d42d"
      },
      "execution_count": null,
      "outputs": [
        {
          "output_type": "stream",
          "name": "stdout",
          "text": [
            "Sophia Wang\n"
          ]
        }
      ]
    },
    {
      "cell_type": "code",
      "source": [
        "firstName*4"
      ],
      "metadata": {
        "colab": {
          "base_uri": "https://localhost:8080/",
          "height": 35
        },
        "id": "J1tjzu0KEqkb",
        "outputId": "7f5c16f4-2623-45b6-e1aa-12e30df76a6f"
      },
      "execution_count": null,
      "outputs": [
        {
          "output_type": "execute_result",
          "data": {
            "text/plain": [
              "'SophiaSophiaSophiaSophia'"
            ],
            "application/vnd.google.colaboratory.intrinsic+json": {
              "type": "string"
            }
          },
          "metadata": {},
          "execution_count": 29
        }
      ]
    },
    {
      "cell_type": "code",
      "source": [
        "# Is dividing strings a meaningful oporation\n",
        "firstName/1"
      ],
      "metadata": {
        "colab": {
          "base_uri": "https://localhost:8080/",
          "height": 186
        },
        "id": "RJKZIXFOFG8g",
        "outputId": "d2011798-e2de-4cce-80bd-a31f0d33bfd8"
      },
      "execution_count": null,
      "outputs": [
        {
          "output_type": "error",
          "ename": "TypeError",
          "evalue": "ignored",
          "traceback": [
            "\u001b[0;31m---------------------------------------------------------------------------\u001b[0m",
            "\u001b[0;31mTypeError\u001b[0m                                 Traceback (most recent call last)",
            "\u001b[0;32m<ipython-input-31-a43da73c8ef5>\u001b[0m in \u001b[0;36m<module>\u001b[0;34m()\u001b[0m\n\u001b[1;32m      1\u001b[0m \u001b[0;31m# Is dividing strings a meaningful oporation\u001b[0m\u001b[0;34m\u001b[0m\u001b[0;34m\u001b[0m\u001b[0;34m\u001b[0m\u001b[0m\n\u001b[0;32m----> 2\u001b[0;31m \u001b[0mfirstName\u001b[0m\u001b[0;34m/\u001b[0m\u001b[0;36m1\u001b[0m\u001b[0;34m\u001b[0m\u001b[0;34m\u001b[0m\u001b[0m\n\u001b[0m",
            "\u001b[0;31mTypeError\u001b[0m: unsupported operand type(s) for /: 'str' and 'int'"
          ]
        }
      ]
    },
    {
      "cell_type": "code",
      "source": [
        "#it doesn't work\n",
        "type(firstName)"
      ],
      "metadata": {
        "colab": {
          "base_uri": "https://localhost:8080/"
        },
        "id": "-4g8yh1uFOSM",
        "outputId": "a547b9ad-94a1-4abb-b741-a49089e6372b"
      },
      "execution_count": null,
      "outputs": [
        {
          "output_type": "execute_result",
          "data": {
            "text/plain": [
              "str"
            ]
          },
          "metadata": {},
          "execution_count": 32
        }
      ]
    },
    {
      "cell_type": "code",
      "source": [
        "type(1)"
      ],
      "metadata": {
        "id": "sz0hTZqPF-b2",
        "outputId": "d706fdf5-a06d-4e97-ea07-5f179b21d1a7",
        "colab": {
          "base_uri": "https://localhost:8080/"
        }
      },
      "execution_count": null,
      "outputs": [
        {
          "output_type": "execute_result",
          "data": {
            "text/plain": [
              "int"
            ]
          },
          "metadata": {},
          "execution_count": 33
        }
      ]
    },
    {
      "cell_type": "code",
      "source": [
        "x = 3\n",
        "y = 5\n",
        "\n",
        "print( str(x) + ' times ' + str(y) +' equals '+ str(x*y))"
      ],
      "metadata": {
        "id": "NmqAWH-QF-RK",
        "colab": {
          "base_uri": "https://localhost:8080/"
        },
        "outputId": "26333d00-7d77-4ac1-83b6-14571135504c"
      },
      "execution_count": 39,
      "outputs": [
        {
          "output_type": "stream",
          "name": "stdout",
          "text": [
            "3 times 5 equals 15\n"
          ]
        }
      ]
    },
    {
      "cell_type": "code",
      "source": [
        "ans = input('Feed me a stray cat. ')\n",
        "\n",
        "ans = float(ans)\n",
        "\n",
        "print(ans)"
      ],
      "metadata": {
        "colab": {
          "base_uri": "https://localhost:8080/"
        },
        "id": "eiO0atD2Sl7Q",
        "outputId": "a43f4be8-b167-45be-8e5e-679761f24b5a"
      },
      "execution_count": 47,
      "outputs": [
        {
          "output_type": "stream",
          "name": "stdout",
          "text": [
            "Feed me a stray cat. 8\n",
            "8.0\n"
          ]
        }
      ]
    },
    {
      "cell_type": "code",
      "source": [
        "# Exercise\n",
        "# Pythagorean theorem: a**2 + b**2 = c**2\n",
        "# get 2 numbers fron the user: a,b\n",
        "# compute and print the length of side c"
      ],
      "metadata": {
        "id": "Nqp01smAUWfK"
      },
      "execution_count": 49,
      "outputs": []
    },
    {
      "cell_type": "code",
      "source": [
        "a = input('What is the length of side a?')\n",
        "b = input('What is the length of side b?')\n",
        "a = float(a)\n",
        "b = int(b)\n",
        "c = (a**2 + b**2)**(1/2)\n",
        "print('The length of side c is ' + str(c))"
      ],
      "metadata": {
        "colab": {
          "base_uri": "https://localhost:8080/"
        },
        "id": "lSe1vwUcU1zd",
        "outputId": "07e30d4b-f014-4bed-c600-65f6e2d2a332"
      },
      "execution_count": 69,
      "outputs": [
        {
          "output_type": "stream",
          "name": "stdout",
          "text": [
            "What is the length of side a?6\n",
            "What is the length of side b?5\n",
            "The length of side c is 7.810249675906654\n"
          ]
        }
      ]
    },
    {
      "cell_type": "code",
      "source": [
        "# What he did\n",
        "side1 = float(input('Length of side a: '))\n",
        "side2 = float(input('Length of side b: '))\n",
        "\n",
        "side3 = (side1**2 + side2**2)**(1/2)\n",
        "print(' ')\n",
        "print('The length of side c is ' + str(side3))"
      ],
      "metadata": {
        "colab": {
          "base_uri": "https://localhost:8080/"
        },
        "id": "HjbQulmUV6ok",
        "outputId": "128b68d0-5572-4a7e-d100-46f6ae6168af"
      },
      "execution_count": 67,
      "outputs": [
        {
          "output_type": "stream",
          "name": "stdout",
          "text": [
            "Length of side a: 3.45\n",
            "Length of side b: 4.0\n",
            " \n",
            "The length of side c is 5.282281703960893\n"
          ]
        }
      ]
    }
  ]
}
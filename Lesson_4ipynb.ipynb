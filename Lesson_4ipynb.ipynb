{
  "nbformat": 4,
  "nbformat_minor": 0,
  "metadata": {
    "colab": {
      "name": "Lesson_4ipynb",
      "provenance": [],
      "authorship_tag": "ABX9TyMKDG0OayBQ4yc+KxS5gMmj",
      "include_colab_link": true
    },
    "kernelspec": {
      "name": "python3",
      "display_name": "Python 3"
    },
    "language_info": {
      "name": "python"
    }
  },
  "cells": [
    {
      "cell_type": "markdown",
      "metadata": {
        "id": "view-in-github",
        "colab_type": "text"
      },
      "source": [
        "<a href=\"https://colab.research.google.com/github/sowang2022/sowang2022/blob/main/Lesson_4ipynb.ipynb\" target=\"_parent\"><img src=\"https://colab.research.google.com/assets/colab-badge.svg\" alt=\"Open In Colab\"/></a>"
      ]
    },
    {
      "cell_type": "code",
      "execution_count": 4,
      "metadata": {
        "colab": {
          "base_uri": "https://localhost:8080/"
        },
        "id": "D6-6OxRHFEP7",
        "outputId": "b8902380-21e9-4e72-cc69-d479b5d55956"
      },
      "outputs": [
        {
          "output_type": "stream",
          "name": "stdout",
          "text": [
            "Variable   Type    Data/Info\n",
            "----------------------------\n",
            "aList      list    n=6\n",
            "strList    list    n=5\n"
          ]
        }
      ],
      "source": [
        "aList = [ 0,1,2,3,4,5 ]\n",
        "\n",
        "strList = [ 'hi','my','name','is','Sophia' ]\n",
        "\n",
        "%whos"
      ]
    },
    {
      "cell_type": "code",
      "source": [
        "mixList = ['hello','7',7,7.0]\n",
        "%whos"
      ],
      "metadata": {
        "colab": {
          "base_uri": "https://localhost:8080/"
        },
        "id": "N3fKaBEjGPCT",
        "outputId": "be2f97d5-d624-4f19-b3d7-bcaea795500f"
      },
      "execution_count": 6,
      "outputs": [
        {
          "output_type": "stream",
          "name": "stdout",
          "text": [
            "Variable   Type    Data/Info\n",
            "----------------------------\n",
            "aList      list    n=6\n",
            "mixList    list    n=4\n",
            "strList    list    n=5\n"
          ]
        }
      ]
    },
    {
      "cell_type": "code",
      "source": [
        "listList = [3,            # number\n",
        "            [3,'four',4], # list\n",
        "            'five',       # string\n",
        "            98724]        # number\n",
        "\n",
        "listList"
      ],
      "metadata": {
        "colab": {
          "base_uri": "https://localhost:8080/"
        },
        "id": "8PdRodvLGZne",
        "outputId": "9bbbb824-0afe-42b2-d78f-0c16b06c02db"
      },
      "execution_count": 9,
      "outputs": [
        {
          "output_type": "execute_result",
          "data": {
            "text/plain": [
              "[3, [3, 'four', 4], 'five', 98724]"
            ]
          },
          "metadata": {},
          "execution_count": 9
        }
      ]
    },
    {
      "cell_type": "code",
      "source": [
        "aList = [0,1,2,3,4,5]\n",
        "\n",
        "4 not in aList"
      ],
      "metadata": {
        "colab": {
          "base_uri": "https://localhost:8080/"
        },
        "id": "J8nQVhRCHDPl",
        "outputId": "39bfef4e-4588-4134-b2ff-27bd51b43a5a"
      },
      "execution_count": 13,
      "outputs": [
        {
          "output_type": "execute_result",
          "data": {
            "text/plain": [
              "False"
            ]
          },
          "metadata": {},
          "execution_count": 13
        }
      ]
    },
    {
      "cell_type": "code",
      "source": [
        "%whos"
      ],
      "metadata": {
        "colab": {
          "base_uri": "https://localhost:8080/"
        },
        "id": "IOX5FpB1HR9h",
        "outputId": "608ce0ce-f747-48a6-a6d7-17896c6d1841"
      },
      "execution_count": 14,
      "outputs": [
        {
          "output_type": "stream",
          "name": "stdout",
          "text": [
            "Variable   Type    Data/Info\n",
            "----------------------------\n",
            "aList      list    n=6\n",
            "listList   list    n=4\n",
            "mixList    list    n=4\n",
            "strList    list    n=5\n"
          ]
        }
      ]
    },
    {
      "cell_type": "code",
      "source": [
        "print(aList)\n",
        "print(strList)\n",
        "\n",
        "aList + strList\n",
        "\n",
        "aList*3 "
      ],
      "metadata": {
        "colab": {
          "base_uri": "https://localhost:8080/"
        },
        "id": "7izt6SWPHchz",
        "outputId": "af0582ae-0791-4578-c687-ba1736ac23fb"
      },
      "execution_count": 18,
      "outputs": [
        {
          "output_type": "stream",
          "name": "stdout",
          "text": [
            "[0, 1, 2, 3, 4, 5]\n",
            "['hi', 'my', 'name', 'is', 'Sophia']\n"
          ]
        },
        {
          "output_type": "execute_result",
          "data": {
            "text/plain": [
              "[0, 1, 2, 3, 4, 5, 0, 1, 2, 3, 4, 5, 0, 1, 2, 3, 4, 5]"
            ]
          },
          "metadata": {},
          "execution_count": 18
        }
      ]
    },
    {
      "cell_type": "code",
      "source": [
        "# method\n",
        "print(aList)\n",
        "\n",
        "aList.append(2.50)\n",
        "print(aList)\n",
        "\n",
        "# sort\n",
        "aList.sort()\n",
        "print(aList)"
      ],
      "metadata": {
        "colab": {
          "base_uri": "https://localhost:8080/"
        },
        "id": "OwBfbTmoINOu",
        "outputId": "1b32b38c-e894-4d5b-84ba-5bd930d0ed9f"
      },
      "execution_count": 23,
      "outputs": [
        {
          "output_type": "stream",
          "name": "stdout",
          "text": [
            "[-100, -100, 0, 1, 2, 2.5, 3, 4, 5]\n",
            "[-100, -100, 0, 1, 2, 2.5, 3, 4, 5, 2.5]\n",
            "[-100, -100, 0, 1, 2, 2.5, 2.5, 3, 4, 5]\n"
          ]
        }
      ]
    },
    {
      "cell_type": "code",
      "source": [
        "# Exercise\n",
        "# Make a bunch of 7's in a list\n",
        "# Find how many 7's in the list\n",
        "exList = [7,7,7,7,777,88,8,2,4,7,7,7,7,7,5,3,4,5,6,7,9,0.5,56,7]\n",
        "\n",
        "exList.count(7)"
      ],
      "metadata": {
        "colab": {
          "base_uri": "https://localhost:8080/"
        },
        "id": "OJDGpT2hJumE",
        "outputId": "ee302a5a-79a8-4286-bc48-2bda27c2a7ea"
      },
      "execution_count": 30,
      "outputs": [
        {
          "output_type": "execute_result",
          "data": {
            "text/plain": [
              "11"
            ]
          },
          "metadata": {},
          "execution_count": 30
        }
      ]
    }
  ]
}
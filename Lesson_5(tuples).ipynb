{
  "nbformat": 4,
  "nbformat_minor": 0,
  "metadata": {
    "colab": {
      "name": "Lesson_5(tuples).ipynb",
      "provenance": [],
      "collapsed_sections": [],
      "authorship_tag": "ABX9TyOqfYtQ3742vRnzfY/jLeGV",
      "include_colab_link": true
    },
    "kernelspec": {
      "name": "python3",
      "display_name": "Python 3"
    },
    "language_info": {
      "name": "python"
    }
  },
  "cells": [
    {
      "cell_type": "markdown",
      "metadata": {
        "id": "view-in-github",
        "colab_type": "text"
      },
      "source": [
        "<a href=\"https://colab.research.google.com/github/sowang2022/sowang2022/blob/main/Lesson_5(tuples).ipynb\" target=\"_parent\"><img src=\"https://colab.research.google.com/assets/colab-badge.svg\" alt=\"Open In Colab\"/></a>"
      ]
    },
    {
      "cell_type": "code",
      "execution_count": 8,
      "metadata": {
        "colab": {
          "base_uri": "https://localhost:8080/"
        },
        "id": "3QHicbLnK_Ds",
        "outputId": "48851ba8-f370-43fc-9628-d35e50f91af9"
      },
      "outputs": [
        {
          "output_type": "stream",
          "name": "stdout",
          "text": [
            "(3, '4', 3)\n",
            "[3, '4', 3]\n",
            "(5, '4', 3)\n",
            "[5, '4', 3]\n"
          ]
        }
      ],
      "source": [
        "# Tuples\n",
        "\n",
        "atuple = (3,'4',3)\n",
        "alist = [3,'4',3]\n",
        "\n",
        "# tuples are immutable\n",
        "# lists are mutable\n",
        "\n",
        "print(atuple)\n",
        "print(alist)\n",
        "alist[0] = 5\n",
        "atuple =(5,'4',3)\n",
        "\n",
        "print(atuple)\n",
        "print(alist)\n"
      ]
    },
    {
      "cell_type": "code",
      "source": [
        "v = list(atuple)\n",
        "\n",
        "print(v)\n",
        "v[0] = 2387498\n",
        "print(v)"
      ],
      "metadata": {
        "colab": {
          "base_uri": "https://localhost:8080/"
        },
        "id": "fdtZozp9MZaw",
        "outputId": "28bb5172-0f1e-42ad-c2ac-dab20958bda5"
      },
      "execution_count": 10,
      "outputs": [
        {
          "output_type": "stream",
          "name": "stdout",
          "text": [
            "[5, '4', 3]\n",
            "[2387498, '4', 3]\n"
          ]
        }
      ]
    }
  ]
}
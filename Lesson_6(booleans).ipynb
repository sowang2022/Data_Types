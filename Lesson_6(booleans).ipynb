{
  "nbformat": 4,
  "nbformat_minor": 0,
  "metadata": {
    "colab": {
      "name": "Lesson_6(booleans).ipynb",
      "provenance": [],
      "authorship_tag": "ABX9TyO78JplyvwtN8CkkyeZqtEL",
      "include_colab_link": true
    },
    "kernelspec": {
      "name": "python3",
      "display_name": "Python 3"
    },
    "language_info": {
      "name": "python"
    }
  },
  "cells": [
    {
      "cell_type": "markdown",
      "metadata": {
        "id": "view-in-github",
        "colab_type": "text"
      },
      "source": [
        "<a href=\"https://colab.research.google.com/github/sowang2022/sowang2022/blob/main/Lesson_6(booleans).ipynb\" target=\"_parent\"><img src=\"https://colab.research.google.com/assets/colab-badge.svg\" alt=\"Open In Colab\"/></a>"
      ]
    },
    {
      "cell_type": "code",
      "execution_count": 2,
      "metadata": {
        "colab": {
          "base_uri": "https://localhost:8080/"
        },
        "id": "nvTLbN3klJtC",
        "outputId": "aad46ec9-94a7-44b3-b4cb-96a26b92cf79"
      },
      "outputs": [
        {
          "output_type": "stream",
          "name": "stdout",
          "text": [
            "Variable   Type    Data/Info\n",
            "----------------------------\n",
            "boolTrue   bool    True\n",
            "srtTrue    str     True\n"
          ]
        }
      ],
      "source": [
        "# Boolean, logical\n",
        "\n",
        "boolTrue = True\n",
        "srtTrue = 'True'\n",
        "\n",
        "%whos"
      ]
    },
    {
      "cell_type": "code",
      "source": [
        "4 != 4"
      ],
      "metadata": {
        "colab": {
          "base_uri": "https://localhost:8080/"
        },
        "id": "Ecvfp5-jlhcp",
        "outputId": "76069118-5ef2-42b4-93a3-768fbcc58dfb"
      },
      "execution_count": 11,
      "outputs": [
        {
          "output_type": "execute_result",
          "data": {
            "text/plain": [
              "False"
            ]
          },
          "metadata": {},
          "execution_count": 11
        }
      ]
    },
    {
      "cell_type": "code",
      "source": [
        "4 <= 4"
      ],
      "metadata": {
        "colab": {
          "base_uri": "https://localhost:8080/"
        },
        "id": "Zoj1g3M-luP6",
        "outputId": "09ba68fa-fe6a-44a0-fbd0-0ce7c91b9d3a"
      },
      "execution_count": 9,
      "outputs": [
        {
          "output_type": "execute_result",
          "data": {
            "text/plain": [
              "True"
            ]
          },
          "metadata": {},
          "execution_count": 9
        }
      ]
    },
    {
      "cell_type": "code",
      "source": [
        "a = 8\n",
        "b = 4\n",
        "\n",
        "outcome = a == b*2\n",
        "print(outcome)"
      ],
      "metadata": {
        "colab": {
          "base_uri": "https://localhost:8080/"
        },
        "id": "zvOY3ps9mFMd",
        "outputId": "afe39bee-f25a-4062-ecb1-8cda8d7bf5f9"
      },
      "execution_count": 40,
      "outputs": [
        {
          "output_type": "stream",
          "name": "stdout",
          "text": [
            "True\n"
          ]
        }
      ]
    },
    {
      "cell_type": "code",
      "source": [
        "# conjunctive comparisons\n",
        "14==5 or 7>10"
      ],
      "metadata": {
        "colab": {
          "base_uri": "https://localhost:8080/"
        },
        "id": "XZGmZsERmj6q",
        "outputId": "5176e84f-7b62-4e4b-9518-93628aec4294"
      },
      "execution_count": 20,
      "outputs": [
        {
          "output_type": "execute_result",
          "data": {
            "text/plain": [
              "False"
            ]
          },
          "metadata": {},
          "execution_count": 20
        }
      ]
    },
    {
      "cell_type": "code",
      "source": [
        "bool(\"\")"
      ],
      "metadata": {
        "colab": {
          "base_uri": "https://localhost:8080/"
        },
        "id": "vSjDLF54nnJh",
        "outputId": "609565a0-525e-433a-ef52-f09f4454f8bd"
      },
      "execution_count": 30,
      "outputs": [
        {
          "output_type": "execute_result",
          "data": {
            "text/plain": [
              "False"
            ]
          },
          "metadata": {},
          "execution_count": 30
        }
      ]
    },
    {
      "cell_type": "code",
      "source": [
        "# Ask the user for Pythagorean triplets, \n",
        "#and test whether that's a real triplet\n",
        "# a**2 + b**2 = c**2\n",
        "#3,4,5\n",
        "#5,12,13\n",
        "# Your answer is true/false \n",
        "print(\"Let's test your knowledge of the Pythagorean triplets!\")\n",
        "a = input('Input length of side a: ')\n",
        "b = input('Input length of side b: ')\n",
        "c = input('Input length of side c: ')\n",
        "a = float(a)\n",
        "b = float(b)\n",
        "c = float(c)\n",
        "outcome = c**2 == a**2 + b**2\n",
        "print('Your answer is ' + str(outcome) + '!')"
      ],
      "metadata": {
        "colab": {
          "base_uri": "https://localhost:8080/"
        },
        "id": "qgeZXQSCoL8F",
        "outputId": "712f0270-7b22-48ad-cf82-25c0e4571527"
      },
      "execution_count": 63,
      "outputs": [
        {
          "output_type": "stream",
          "name": "stdout",
          "text": [
            "Let's test your knowledge of the Pythagorean triplets!\n",
            "Input length of side a: 3\n",
            "Input length of side b: 4\n",
            "Input length of side c: 5\n",
            "Your answer is True!\n"
          ]
        }
      ]
    }
  ]
}
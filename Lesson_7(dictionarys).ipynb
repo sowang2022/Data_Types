{
  "nbformat": 4,
  "nbformat_minor": 0,
  "metadata": {
    "colab": {
      "name": "Lesson_7(dictionarys).ipynb",
      "provenance": [],
      "authorship_tag": "ABX9TyPLI2q37rHmzMDi7J25rOBI",
      "include_colab_link": true
    },
    "kernelspec": {
      "name": "python3",
      "display_name": "Python 3"
    },
    "language_info": {
      "name": "python"
    }
  },
  "cells": [
    {
      "cell_type": "markdown",
      "metadata": {
        "id": "view-in-github",
        "colab_type": "text"
      },
      "source": [
        "<a href=\"https://colab.research.google.com/github/sowang2022/sowang2022/blob/main/Lesson_7(dictionarys).ipynb\" target=\"_parent\"><img src=\"https://colab.research.google.com/assets/colab-badge.svg\" alt=\"Open In Colab\"/></a>"
      ]
    },
    {
      "cell_type": "code",
      "execution_count": 2,
      "metadata": {
        "colab": {
          "base_uri": "https://localhost:8080/"
        },
        "id": "KtF-fvzqkiCL",
        "outputId": "ef3e3e90-46d1-4b48-c75b-5cbc50ab2ecc"
      },
      "outputs": [
        {
          "output_type": "execute_result",
          "data": {
            "text/plain": [
              "{}"
            ]
          },
          "metadata": {},
          "execution_count": 2
        }
      ],
      "source": [
        "# Dictionary\n",
        "D = dict()\n",
        "D"
      ]
    },
    {
      "cell_type": "code",
      "source": [
        "# key/value pair\n",
        "D['name'] = 'Sophia'\n",
        "D['AgeRange'] = [10,30]\n",
        "\n",
        "D"
      ],
      "metadata": {
        "colab": {
          "base_uri": "https://localhost:8080/"
        },
        "id": "FouVLzcHlEq6",
        "outputId": "1842df87-fe65-4a4c-aaaf-b49952dcf9b5"
      },
      "execution_count": 4,
      "outputs": [
        {
          "output_type": "execute_result",
          "data": {
            "text/plain": [
              "{'AgeRange': [10, 30], 'name': 'Sophia'}"
            ]
          },
          "metadata": {},
          "execution_count": 4
        }
      ]
    },
    {
      "cell_type": "code",
      "source": [
        "E = {'name':'Sophia', 'AgeRange':[10,30]}\n",
        "E"
      ],
      "metadata": {
        "colab": {
          "base_uri": "https://localhost:8080/"
        },
        "id": "aMQn6l9alnPI",
        "outputId": "b8e857f4-764f-4122-c8f4-7a1c305bbf83"
      },
      "execution_count": 6,
      "outputs": [
        {
          "output_type": "execute_result",
          "data": {
            "text/plain": [
              "{'AgeRange': [10, 30], 'name': 'Sophia'}"
            ]
          },
          "metadata": {},
          "execution_count": 6
        }
      ]
    },
    {
      "cell_type": "code",
      "source": [
        "D['name']"
      ],
      "metadata": {
        "colab": {
          "base_uri": "https://localhost:8080/",
          "height": 35
        },
        "id": "7At4dMdJl3MD",
        "outputId": "10f885ba-9df5-4518-e5df-d8f76177ba8c"
      },
      "execution_count": 8,
      "outputs": [
        {
          "output_type": "execute_result",
          "data": {
            "text/plain": [
              "'Sophia'"
            ],
            "application/vnd.google.colaboratory.intrinsic+json": {
              "type": "string"
            }
          },
          "metadata": {},
          "execution_count": 8
        }
      ]
    },
    {
      "cell_type": "code",
      "source": [
        "D.keys()"
      ],
      "metadata": {
        "colab": {
          "base_uri": "https://localhost:8080/"
        },
        "id": "6h4MUbVZmCJf",
        "outputId": "30418618-27d1-4cb7-8311-e457823fbaac"
      },
      "execution_count": 10,
      "outputs": [
        {
          "output_type": "execute_result",
          "data": {
            "text/plain": [
              "dict_keys(['name', 'AgeRange'])"
            ]
          },
          "metadata": {},
          "execution_count": 10
        }
      ]
    },
    {
      "cell_type": "code",
      "source": [
        "'Name' in D"
      ],
      "metadata": {
        "colab": {
          "base_uri": "https://localhost:8080/"
        },
        "id": "_Rwx6Mfgl9H-",
        "outputId": "19b760eb-a37c-4918-82b4-393531c8b0c2"
      },
      "execution_count": 13,
      "outputs": [
        {
          "output_type": "execute_result",
          "data": {
            "text/plain": [
              "False"
            ]
          },
          "metadata": {},
          "execution_count": 13
        }
      ]
    },
    {
      "cell_type": "code",
      "source": [
        "'Sophia' not in D"
      ],
      "metadata": {
        "colab": {
          "base_uri": "https://localhost:8080/"
        },
        "id": "HB76xKlHmQnX",
        "outputId": "4af99448-b465-493f-cd19-1e1d09d8cf03"
      },
      "execution_count": 15,
      "outputs": [
        {
          "output_type": "execute_result",
          "data": {
            "text/plain": [
              "True"
            ]
          },
          "metadata": {},
          "execution_count": 15
        }
      ]
    },
    {
      "cell_type": "code",
      "source": [
        "D.values()"
      ],
      "metadata": {
        "colab": {
          "base_uri": "https://localhost:8080/"
        },
        "id": "cTQ3RRqcmpTv",
        "outputId": "2f635527-e424-4544-b025-e2b411064627"
      },
      "execution_count": 17,
      "outputs": [
        {
          "output_type": "execute_result",
          "data": {
            "text/plain": [
              "dict_values(['Sophia', [10, 30]])"
            ]
          },
          "metadata": {},
          "execution_count": 17
        }
      ]
    },
    {
      "cell_type": "code",
      "source": [
        "D.items()"
      ],
      "metadata": {
        "colab": {
          "base_uri": "https://localhost:8080/"
        },
        "id": "UW-7yp96mydp",
        "outputId": "c1aaab52-9643-4142-e6ac-4bc01f1a1182"
      },
      "execution_count": 18,
      "outputs": [
        {
          "output_type": "execute_result",
          "data": {
            "text/plain": [
              "dict_items([('name', 'Sophia'), ('AgeRange', [10, 30])])"
            ]
          },
          "metadata": {},
          "execution_count": 18
        }
      ]
    },
    {
      "cell_type": "code",
      "source": [
        "# exercise\n",
        "\n",
        "# Input 2 #'s from the user\n",
        "# Create a dict. with keys 'firstNum,','secondNum','product'\n",
        "firstNum = float(input('What will be your first number in the dictionary?'))\n",
        "secondNum = float(input('What will be your second number in the dictionary?'))\n",
        "S = dict()\n",
        "S['FirstNum'] = firstNum\n",
        "S['SecondNum'] = secondNum\n",
        "S['Product'] = firstNum*secondNum\n",
        "\n",
        "S.items()"
      ],
      "metadata": {
        "colab": {
          "base_uri": "https://localhost:8080/"
        },
        "id": "5p9vW6YKmztZ",
        "outputId": "30d99f97-684a-460d-9ed8-aec9fd8b023e"
      },
      "execution_count": 26,
      "outputs": [
        {
          "name": "stdout",
          "output_type": "stream",
          "text": [
            "What will be your first number in the dictionary?4\n",
            "What will be your second number in the dictionary?5\n"
          ]
        },
        {
          "output_type": "execute_result",
          "data": {
            "text/plain": [
              "dict_items([('FirstNum', 4.0), ('SecondNum', 5.0), ('Product', 20.0)])"
            ]
          },
          "metadata": {},
          "execution_count": 26
        }
      ]
    }
  ]
}